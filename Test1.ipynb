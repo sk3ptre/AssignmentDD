{
 "cells": [
  {
   "cell_type": "code",
   "execution_count": null,
   "id": "a571c302-90b6-47b6-ab2e-428e8d20456b",
   "metadata": {},
   "outputs": [],
   "source": [
    "Test Notebook1\n",
    "This is the first notebook\n"
   ]
  },
  {
   "cell_type": "code",
   "execution_count": null,
   "id": "193f2777-6f59-41c8-b94d-1c8515d8ef1e",
   "metadata": {},
   "outputs": [],
   "source": []
  }
 ],
 "metadata": {
  "kernelspec": {
   "display_name": "Python 3 (ipykernel)",
   "language": "python",
   "name": "python3"
  },
  "language_info": {
   "codemirror_mode": {
    "name": "ipython",
    "version": 3
   },
   "file_extension": ".py",
   "mimetype": "text/x-python",
   "name": "python",
   "nbconvert_exporter": "python",
   "pygments_lexer": "ipython3",
   "version": "3.12.4"
  }
 },
 "nbformat": 4,
 "nbformat_minor": 5
}
